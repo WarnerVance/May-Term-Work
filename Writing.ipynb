{
 "cells": [
  {
   "cell_type": "code",
   "execution_count": 129,
   "metadata": {},
   "outputs": [],
   "source": [
    "import random \n",
    "import time "
   ]
  },
  {
   "cell_type": "code",
   "execution_count": 130,
   "metadata": {},
   "outputs": [],
   "source": [
    "list_of_numbers = [random.randint(0, 1000) for i in range(10000)]\n",
    "list_of_numbers_mst = list_of_numbers.copy()"
   ]
  },
  {
   "cell_type": "code",
   "execution_count": 131,
   "metadata": {},
   "outputs": [
    {
     "name": "stdout",
     "output_type": "stream",
     "text": [
      "Time taken to sort the list using bubble sort is 2.8747215270996094 seconds\n"
     ]
    }
   ],
   "source": [
    "def bubble_sort(list_of_numbers):\n",
    "    n = len(list_of_numbers)\n",
    "    for i in range(n):\n",
    "        for j in range(0, n-i-1):\n",
    "            if list_of_numbers[j] > list_of_numbers[j+1]:\n",
    "                list_of_numbers[j], list_of_numbers[j+1] = list_of_numbers[j+1], list_of_numbers[j]\n",
    "    return list_of_numbers\n",
    "\n",
    "start_time = time.time()\n",
    "bubble_sort(list_of_numbers)\n",
    "end_time = time.time() - start_time\n",
    "print(f\"Time taken to sort the list using bubble sort is {end_time} seconds\")\n",
    "list_of_numbers = list_of_numbers_mst.copy()"
   ]
  },
  {
   "cell_type": "code",
   "execution_count": 132,
   "metadata": {},
   "outputs": [
    {
     "name": "stdout",
     "output_type": "stream",
     "text": [
      "Time taken to sort the list using selection sort is 1.2625188827514648 seconds\n"
     ]
    }
   ],
   "source": [
    "def selection_sort(list_of_numbers):\n",
    "    for i in range(len(list_of_numbers)):\n",
    "        min_idx = i\n",
    "        for j in range(i+1, len(list_of_numbers)):\n",
    "            if list_of_numbers[j] < list_of_numbers[min_idx]:\n",
    "                min_idx = j\n",
    "        list_of_numbers[i], list_of_numbers[min_idx] = list_of_numbers[min_idx], list_of_numbers[i]\n",
    "    return list_of_numbers\n",
    "\n",
    "start_time = time.time()\n",
    "selection_sort(list_of_numbers)\n",
    "end_time = time.time() - start_time\n",
    "print(f\"Time taken to sort the list using selection sort is {end_time} seconds\")\n",
    "list_of_numbers = list_of_numbers_mst.copy()"
   ]
  },
  {
   "cell_type": "code",
   "execution_count": 133,
   "metadata": {},
   "outputs": [
    {
     "name": "stdout",
     "output_type": "stream",
     "text": [
      "Time taken to sort the list using insertion sort is 1.1670143604278564 seconds\n"
     ]
    }
   ],
   "source": [
    "def insertion_sort(list_of_numbers):\n",
    "    for i in range(1, len(list_of_numbers)):\n",
    "        key = list_of_numbers[i]\n",
    "        j = i-1\n",
    "        while j >= 0 and key < list_of_numbers[j]:\n",
    "            list_of_numbers[j+1] = list_of_numbers[j]\n",
    "            j -= 1\n",
    "        list_of_numbers[j+1] = key\n",
    "    return list_of_numbers\n",
    "start_time = time.time()\n",
    "insertion_sort(list_of_numbers)\n",
    "end_time = time.time() - start_time\n",
    "print(f\"Time taken to sort the list using insertion sort is {end_time} seconds\")\n",
    "# list_of_numbers\n",
    "list_of_numbers = list_of_numbers_mst.copy()"
   ]
  },
  {
   "cell_type": "code",
   "execution_count": 134,
   "metadata": {},
   "outputs": [
    {
     "name": "stdout",
     "output_type": "stream",
     "text": [
      "Time taken to sort the list using bucket sort is 0.0034253597259521484 seconds\n"
     ]
    }
   ],
   "source": [
    "def bucket_sort(list_of_numbers):\n",
    "    if len(list_of_numbers) == 0:\n",
    "        return list_of_numbers\n",
    "\n",
    "    # Find minimum and maximum values\n",
    "    min_value = min(list_of_numbers)\n",
    "    max_value = max(list_of_numbers)\n",
    "\n",
    "    # Number of buckets\n",
    "    bucket_count = len(list_of_numbers)\n",
    "\n",
    "    # Create buckets\n",
    "    buckets = [[] for _ in range(bucket_count)]\n",
    "\n",
    "    # Assign numbers into buckets\n",
    "    for i in range(len(list_of_numbers)):\n",
    "        index = int(((list_of_numbers[i] - min_value) / (max_value - min_value)) * (bucket_count - 1))\n",
    "        buckets[index].append(list_of_numbers[i])\n",
    "\n",
    "    # Sort buckets and concatenate\n",
    "    sorted_list = []\n",
    "    for i in range(len(buckets)):\n",
    "        buckets[i].sort()\n",
    "        sorted_list.extend(buckets[i])\n",
    "\n",
    "    return sorted_list\n",
    "\n",
    "start_time = time.time()\n",
    "bucket_sort(list_of_numbers)\n",
    "end_time = time.time() - start_time\n",
    "sorted_list = bucket_sort(list_of_numbers)\n",
    "print(f\"Time taken to sort the list using bucket sort is {end_time} seconds\")\n",
    "list_of_numbers = list_of_numbers_mst.copy()"
   ]
  },
  {
   "cell_type": "code",
   "execution_count": 135,
   "metadata": {},
   "outputs": [
    {
     "name": "stdout",
     "output_type": "stream",
     "text": [
      "Time taken to sort the list using merge sort is 0.013586997985839844 seconds\n"
     ]
    }
   ],
   "source": [
    "def merge_sort(arr):\n",
    "    if len(arr) > 1:\n",
    "        mid = len(arr) // 2\n",
    "        L = arr[:mid]\n",
    "        R = arr[mid:]\n",
    "\n",
    "        merge_sort(L)\n",
    "        merge_sort(R)\n",
    "\n",
    "        i = j = k = 0\n",
    "\n",
    "        while i < len(L) and j < len(R):\n",
    "            if L[i] < R[j]:\n",
    "                arr[k] = L[i]\n",
    "                i += 1\n",
    "            else:\n",
    "                arr[k] = R[j]\n",
    "                j += 1\n",
    "            k += 1\n",
    "\n",
    "        while i < len(L):\n",
    "            arr[k] = L[i]\n",
    "            i += 1\n",
    "            k += 1\n",
    "\n",
    "        while j < len(R):\n",
    "            arr[k] = R[j]\n",
    "            j += 1\n",
    "            k += 1\n",
    "\n",
    "    return arr\n",
    "\n",
    "start_time = time.time()\n",
    "merge_sort(list_of_numbers)\n",
    "end_time = time.time() - start_time\n",
    "print(f\"Time taken to sort the list using merge sort is {end_time} seconds\")"
   ]
  }
 ],
 "metadata": {
  "kernelspec": {
   "display_name": "Python 3",
   "language": "python",
   "name": "python3"
  },
  "language_info": {
   "codemirror_mode": {
    "name": "ipython",
    "version": 3
   },
   "file_extension": ".py",
   "mimetype": "text/x-python",
   "name": "python",
   "nbconvert_exporter": "python",
   "pygments_lexer": "ipython3",
   "version": "3.12.3"
  }
 },
 "nbformat": 4,
 "nbformat_minor": 2
}
