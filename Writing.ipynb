{
 "cells": [
  {
   "cell_type": "code",
   "execution_count": 1,
   "metadata": {},
   "outputs": [],
   "source": [
    "import random \n",
    "import time "
   ]
  },
  {
   "cell_type": "code",
   "execution_count": 2,
   "metadata": {},
   "outputs": [],
   "source": [
    "list_of_numbers = [random.randint(0, 1000) for i in range(10000)]\n",
    "list_of_numbers_mst = list_of_numbers.copy()"
   ]
  },
  {
   "cell_type": "code",
   "execution_count": 3,
   "metadata": {},
   "outputs": [
    {
     "name": "stdout",
     "output_type": "stream",
     "text": [
      "Time taken to sort the list using bubble sort is 2.9207754135131836 seconds\n"
     ]
    }
   ],
   "source": [
    "def bubble_sort(list_of_numbers):\n",
    "    # Get the number of elements in the list\n",
    "    n = len(list_of_numbers)\n",
    "    \n",
    "    # Traverse through all elements in the list\n",
    "    for i in range(n):\n",
    "        # Last i elements are already in place, so the inner loop can avoid looking at the last i elements\n",
    "        for j in range(0, n-i-1):\n",
    "            # Swap if the element found is greater than the next element\n",
    "            if list_of_numbers[j] > list_of_numbers[j+1]:\n",
    "                list_of_numbers[j], list_of_numbers[j+1] = list_of_numbers[j+1], list_of_numbers[j]\n",
    "    # Return the sorted list\n",
    "    return list_of_numbers\n",
    "\n",
    "start_time = time.time()\n",
    "bubble_sort(list_of_numbers)\n",
    "end_time = time.time() - start_time\n",
    "print(f\"Time taken to sort the list using bubble sort is {end_time} seconds\")\n",
    "list_of_numbers = list_of_numbers_mst.copy()"
   ]
  },
  {
   "cell_type": "code",
   "execution_count": 4,
   "metadata": {},
   "outputs": [
    {
     "name": "stdout",
     "output_type": "stream",
     "text": [
      "Time taken to sort the list using selection sort is 1.2996184825897217 seconds\n"
     ]
    }
   ],
   "source": [
    "def selection_sort(list_of_numbers):\n",
    "    # Iterate over each element in the list\n",
    "    for i in range(len(list_of_numbers)):\n",
    "        # Assume the first element is the minimum\n",
    "        min_idx = i\n",
    "        # Check the rest of the array for a smaller element\n",
    "        for j in range(i+1, len(list_of_numbers)):\n",
    "            # If a smaller element is found, update min_idx\n",
    "            if list_of_numbers[j] < list_of_numbers[min_idx]:\n",
    "                min_idx = j\n",
    "        # Swap the found minimum element with the first element\n",
    "        list_of_numbers[i], list_of_numbers[min_idx] = list_of_numbers[min_idx], list_of_numbers[i]\n",
    "    # Return the sorted list\n",
    "    return list_of_numbers\n",
    "start_time = time.time()\n",
    "selection_sort(list_of_numbers)\n",
    "end_time = time.time() - start_time\n",
    "print(f\"Time taken to sort the list using selection sort is {end_time} seconds\")\n",
    "list_of_numbers = list_of_numbers_mst.copy()"
   ]
  },
  {
   "cell_type": "code",
   "execution_count": 5,
   "metadata": {},
   "outputs": [
    {
     "name": "stdout",
     "output_type": "stream",
     "text": [
      "Time taken to sort the list using insertion sort is 1.169518232345581 seconds\n"
     ]
    }
   ],
   "source": [
    "def insertion_sort(list_of_numbers):\n",
    "    # Iterate from the second element of the list\n",
    "    for i in range(1, len(list_of_numbers)):\n",
    "        # The current element to be inserted into the sorted portion of the array\n",
    "        key = list_of_numbers[i]\n",
    "        # Start comparing with the element just before the current element\n",
    "        j = i-1\n",
    "        # Move elements of list_of_numbers[0..i-1], that are greater than key,\n",
    "        # to one position ahead of their current position\n",
    "        while j >= 0 and key < list_of_numbers[j]:\n",
    "            list_of_numbers[j+1] = list_of_numbers[j]\n",
    "            j -= 1\n",
    "        # Insert the key at after the element just smaller than it.\n",
    "        list_of_numbers[j+1] = key\n",
    "    return list_of_numbers\n",
    "\n",
    "start_time = time.time()\n",
    "insertion_sort(list_of_numbers)\n",
    "end_time = time.time() - start_time\n",
    "print(f\"Time taken to sort the list using insertion sort is {end_time} seconds\")\n",
    "# list_of_numbers\n",
    "list_of_numbers = list_of_numbers_mst.copy()"
   ]
  },
  {
   "cell_type": "code",
   "execution_count": 6,
   "metadata": {},
   "outputs": [
    {
     "name": "stdout",
     "output_type": "stream",
     "text": [
      "Time taken to sort the list using bucket sort is 0.0029976367950439453 seconds\n"
     ]
    }
   ],
   "source": [
    "def bucket_sort(list_of_numbers):\n",
    "    if len(list_of_numbers) == 0:\n",
    "        return list_of_numbers\n",
    "\n",
    "    # Find minimum and maximum values\n",
    "    min_value = min(list_of_numbers)\n",
    "    max_value = max(list_of_numbers)\n",
    "\n",
    "    # Number of buckets\n",
    "    bucket_count = len(list_of_numbers)\n",
    "\n",
    "    # Create buckets\n",
    "    buckets = [[] for _ in range(bucket_count)]\n",
    "\n",
    "    # Assign numbers into buckets\n",
    "    for i in range(len(list_of_numbers)):\n",
    "        index = int(((list_of_numbers[i] - min_value) / (max_value - min_value)) * (bucket_count - 1))\n",
    "        buckets[index].append(list_of_numbers[i])\n",
    "\n",
    "    # Sort buckets and concatenate\n",
    "    sorted_list = []\n",
    "    for i in range(len(buckets)):\n",
    "        buckets[i].sort()\n",
    "        sorted_list.extend(buckets[i])\n",
    "\n",
    "    return sorted_list\n",
    "\n",
    "start_time = time.time()\n",
    "bucket_sort(list_of_numbers)\n",
    "end_time = time.time() - start_time\n",
    "sorted_list = bucket_sort(list_of_numbers)\n",
    "print(f\"Time taken to sort the list using bucket sort is {end_time} seconds\")\n",
    "list_of_numbers = list_of_numbers_mst.copy()"
   ]
  },
  {
   "cell_type": "code",
   "execution_count": 7,
   "metadata": {},
   "outputs": [
    {
     "name": "stdout",
     "output_type": "stream",
     "text": [
      "Time taken to sort the list using merge sort is 0.017003536224365234 seconds\n"
     ]
    }
   ],
   "source": [
    "def merge_sort(arr):\n",
    "    # If the array has more than one element\n",
    "    if len(arr) > 1:\n",
    "        # Find the middle of the array\n",
    "        mid = len(arr) // 2\n",
    "        # Dividing the array elements into 2 halves\n",
    "        L = arr[:mid]\n",
    "        R = arr[mid:]\n",
    "\n",
    "        # Sorting the first half\n",
    "        merge_sort(L)\n",
    "        # Sorting the second half\n",
    "        merge_sort(R)\n",
    "\n",
    "        # Initializing index variables\n",
    "        i = j = k = 0\n",
    "\n",
    "        # Copy data to temp arrays L[] and R[]\n",
    "        while i < len(L) and j < len(R):\n",
    "            # Checking if the element of the first half is smaller than the second half\n",
    "            if L[i] < R[j]:\n",
    "                arr[k] = L[i]\n",
    "                i += 1\n",
    "            else:\n",
    "                arr[k] = R[j]\n",
    "                j += 1\n",
    "            k += 1\n",
    "\n",
    "        # Checking if any element was left in L[]\n",
    "        while i < len(L):\n",
    "            arr[k] = L[i]\n",
    "            i += 1\n",
    "            k += 1\n",
    "\n",
    "        # Checking if any element was left in R[]\n",
    "        while j < len(R):\n",
    "            arr[k] = R[j]\n",
    "            j += 1\n",
    "            k += 1\n",
    "\n",
    "    # Return the sorted array\n",
    "    return arr\n",
    "start_time = time.time()\n",
    "merge_sort(list_of_numbers)\n",
    "end_time = time.time() - start_time\n",
    "print(f\"Time taken to sort the list using merge sort is {end_time} seconds\")"
   ]
  }
 ],
 "metadata": {
  "kernelspec": {
   "display_name": "Python 3",
   "language": "python",
   "name": "python3"
  },
  "language_info": {
   "codemirror_mode": {
    "name": "ipython",
    "version": 3
   },
   "file_extension": ".py",
   "mimetype": "text/x-python",
   "name": "python",
   "nbconvert_exporter": "python",
   "pygments_lexer": "ipython3",
   "version": "3.12.3"
  }
 },
 "nbformat": 4,
 "nbformat_minor": 2
}
